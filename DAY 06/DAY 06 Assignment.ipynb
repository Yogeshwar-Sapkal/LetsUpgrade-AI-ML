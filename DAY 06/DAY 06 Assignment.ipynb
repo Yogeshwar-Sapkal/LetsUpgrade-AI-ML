{
 "cells": [
  {
   "cell_type": "markdown",
   "metadata": {},
   "source": [
    "__Question 1:\n",
    "Assuming that we have some email addresses in the \"username@companyname.com\" format, please write program\n",
    "to print the company name of a given email address. Both user names and company names are composed of letters\n",
    "only.__\n",
    "\n",
    "__Input Format:\n",
    "The first line of the input contains an email address.__\n",
    "\n",
    "__Output Format:\n",
    "Print the company name in single line.__\n",
    "\n",
    "__Example;\n",
    "Input:\n",
    "john@google.com\n",
    "Output:\n",
    "google__"
   ]
  },
  {
   "cell_type": "code",
   "execution_count": 10,
   "metadata": {},
   "outputs": [
    {
     "name": "stdout",
     "output_type": "stream",
     "text": [
      "Enter email address john@google.com\n",
      "google\n"
     ]
    }
   ],
   "source": [
    "email=input('Enter email address')\n",
    "x= email.find('@')\n",
    "y=email.find('.')\n",
    "print(email[x+1:y])"
   ]
  },
  {
   "cell_type": "markdown",
   "metadata": {},
   "source": [
    "__Question 2:\n",
    "Write a program that accepts a comma-separated sequence of words as input and prints the words in a comma\n",
    "separated sequence after sorting them alphabetically.__\n",
    "\n",
    "__Input Format:\n",
    "The first line of input contains words separated by the comma.__\n",
    "\n",
    "__Output Format:\n",
    "Print the sorted words separated by the comma.__\n",
    "\n",
    "__Example:\n",
    "Input:\n",
    "without,hello,bag,world\n",
    "Output:\n",
    "bag,hello,without,world__"
   ]
  },
  {
   "cell_type": "code",
   "execution_count": 50,
   "metadata": {},
   "outputs": [
    {
     "name": "stdout",
     "output_type": "stream",
     "text": [
      "Enter words: without,hello,bag,world\n",
      "bag,hello,without,world\n"
     ]
    }
   ],
   "source": [
    "words=input('Enter words: ')\n",
    " \n",
    "words_lst= words.split(',')\n",
    "lst = sorted(words_lst)\n",
    "print(*lst,sep=\",\")\n",
    "\n"
   ]
  },
  {
   "cell_type": "markdown",
   "metadata": {},
   "source": [
    "__Question 3:\n",
    "Create your own Jupyter Notebook for Sets.\n",
    "Reference link: https://www.w3schools.com/python/python_sets.asp__"
   ]
  },
  {
   "cell_type": "markdown",
   "metadata": {},
   "source": [
    "# Set\n",
    "\n",
    "A set is a collection which is unordered and unindexed. In Python sets are written with curly brackets.\n",
    "\n",
    "Example\n",
    "Create a Set:"
   ]
  },
  {
   "cell_type": "code",
   "execution_count": 52,
   "metadata": {},
   "outputs": [
    {
     "name": "stdout",
     "output_type": "stream",
     "text": [
      "{'cherry', 'apple', 'banana'}\n"
     ]
    }
   ],
   "source": [
    "set_a = {\"apple\", \"banana\", \"cherry\"} \n",
    "print(set_a)"
   ]
  },
  {
   "cell_type": "markdown",
   "metadata": {},
   "source": [
    "# Access Items\n",
    "\n",
    "You cannot access items in a set by referring to an index, since sets are unordered the items has no index.\n",
    "\n",
    "But you can loop through the set items using a for loop, or ask if a specified value is present in a set, by using the in keyword.\n",
    "\n",
    "Example\n",
    "Loop through the set, and print the values:"
   ]
  },
  {
   "cell_type": "code",
   "execution_count": 54,
   "metadata": {},
   "outputs": [
    {
     "name": "stdout",
     "output_type": "stream",
     "text": [
      "cherry\n",
      "apple\n",
      "banana\n"
     ]
    }
   ],
   "source": [
    "for x in set_a: \n",
    "    print(x)"
   ]
  },
  {
   "cell_type": "markdown",
   "metadata": {},
   "source": [
    "Example Check if \"banana\" is present in the set:"
   ]
  },
  {
   "cell_type": "code",
   "execution_count": 55,
   "metadata": {},
   "outputs": [
    {
     "name": "stdout",
     "output_type": "stream",
     "text": [
      "True\n"
     ]
    }
   ],
   "source": [
    "thisset = {\"apple\", \"banana\", \"cherry\"}\n",
    "print(\"banana\" in thisset)"
   ]
  },
  {
   "cell_type": "markdown",
   "metadata": {},
   "source": [
    "# Change Items\n",
    "\n",
    "Once a set is created, you cannot change its items, but you can add new items.\n",
    "\n",
    "## Add Items\n",
    "\n",
    "To add one item to a set use the add() method.\n",
    "\n",
    "To add more than one item to a set use the update() method.\n",
    "\n",
    "Example\n",
    "Add an item to a set, using the add() method:"
   ]
  },
  {
   "cell_type": "code",
   "execution_count": 60,
   "metadata": {},
   "outputs": [
    {
     "name": "stdout",
     "output_type": "stream",
     "text": [
      "{'cherry', 'apple', 'banana', 'orange'}\n"
     ]
    }
   ],
   "source": [
    "set_a = {\"apple\", \"banana\", \"cherry\"}\n",
    "\n",
    "set_a.add(\"orange\")\n",
    "print(set_a)"
   ]
  },
  {
   "cell_type": "markdown",
   "metadata": {},
   "source": [
    "Example Add multiple items to a set, using the update() method:"
   ]
  },
  {
   "cell_type": "code",
   "execution_count": 61,
   "metadata": {},
   "outputs": [
    {
     "name": "stdout",
     "output_type": "stream",
     "text": [
      "{'grapes', 'banana', 'apple', 'mango', 'orange', 'cherry'}\n"
     ]
    }
   ],
   "source": [
    "set_a = {\"apple\", \"banana\", \"cherry\"}\n",
    "\n",
    "set_a.update([\"orange\", \"mango\", \"grapes\"])\n",
    "\n",
    "print(set_a)"
   ]
  },
  {
   "cell_type": "markdown",
   "metadata": {},
   "source": [
    "## Remove Item\n",
    "\n",
    "To remove an item in a set, use the remove(), or the discard() method.\n",
    "\n",
    "Example\n",
    "Remove \"banana\" by using the remove() method:\n",
    "\n"
   ]
  },
  {
   "cell_type": "code",
   "execution_count": 2,
   "metadata": {},
   "outputs": [
    {
     "name": "stdout",
     "output_type": "stream",
     "text": [
      "{'apple', 'cherry'}\n"
     ]
    }
   ],
   "source": [
    "set_a = {\"apple\", \"banana\", \"cherry\"}\n",
    "\n",
    "set_a.remove(\"banana\")\n",
    "\n",
    "print(set_a)\n"
   ]
  },
  {
   "cell_type": "markdown",
   "metadata": {},
   "source": [
    "## Join Two Sets\n",
    "\n",
    "There are several ways to join two or more sets in Python.\n",
    "\n",
    "You can use the union() method that returns a new set containing all items from both sets, or the update() method that inserts all the items from one set into another:\n",
    "\n",
    "Example\n",
    "The union() method returns a new set with all items from both sets:\n"
   ]
  },
  {
   "cell_type": "code",
   "execution_count": 3,
   "metadata": {},
   "outputs": [
    {
     "name": "stdout",
     "output_type": "stream",
     "text": [
      "{'a', 1, 2, 3, 'b', 'c'}\n"
     ]
    }
   ],
   "source": [
    "set1 = {\"a\", \"b\" , \"c\"}\n",
    "set2 = {1, 2, 3}\n",
    "\n",
    "set3 = set1.union(set2)\n",
    "print(set3)"
   ]
  },
  {
   "cell_type": "markdown",
   "metadata": {},
   "source": [
    "__Question 4:\n",
    "Given a list of n-1 numbers ranging from 1 to n, your task is to find the missing number. There are no duplicates.__\n",
    "\n",
    "__Input Format:\n",
    "The first line contains n-1 numbers with each number separated by a space.__\n",
    "\n",
    "__Output Format:\n",
    "Print the missing number__\n",
    "\n",
    "__Example:\n",
    "Input:1 2 4 6 3 7 8__\n",
    "\n",
    "__Output:5__\n",
    "\n",
    "__Explanation:\n",
    "In the above list of numbers 5 is missing and hence 5 is the input__"
   ]
  },
  {
   "cell_type": "code",
   "execution_count": 38,
   "metadata": {},
   "outputs": [
    {
     "name": "stdout",
     "output_type": "stream",
     "text": [
      "enter numbers: 1 2 4 6 3 7 8\n",
      "5\n"
     ]
    }
   ],
   "source": [
    "n= input('enter numbers: ').split()\n",
    "#print(n)\n",
    "new_n=[]\n",
    "new_nn=[]\n",
    "for a in n:\n",
    "    new_n.append(int(a))\n",
    "    \n",
    "new_nn=sorted(new_n)\n",
    "\n",
    "# print(new_nn)\n",
    "\n",
    "x=int(n[len(n)-1])\n",
    "\n",
    "new_lst=[]\n",
    "for i in range(1,x+1):\n",
    "    new_lst.append(i)\n",
    "# print(new_lst)\n",
    "\n",
    "set1 = set(new_nn)\n",
    "set2 = set(new_lst)\n",
    "\n",
    "# print(set1)\n",
    "\n",
    "missing = list(set2 - set1)\n",
    "print(missing[0])\n",
    "\n",
    "# print((set(new_nn).difference(new_lst)))\n",
    "\n",
    "            \n",
    "            \n"
   ]
  },
  {
   "cell_type": "markdown",
   "metadata": {},
   "source": [
    "__Question 5:\n",
    "With a given list L, write a program to print this list L after removing all duplicate values with original order reserved.__\n",
    "\n",
    "__Example:__\n",
    "\n",
    "__If the input list is\n",
    "12 24 35 24 88 120 155 88 120 155__\n",
    "\n",
    "__Then the output should be\n",
    "12 24 35 88 120 155__\n",
    "\n",
    "__Explanation:\n",
    "Third, seventh and ninth element of the list L has been removed because it was already present.__\n",
    "\n",
    "__Input Format:\n",
    "In one line take the elements of the list L with each element separated by a space.__\n",
    "\n",
    "__Output Format:\n",
    "Print the elements of the modified list in one line with each element separated by a space.__\n",
    "\n",
    "__Example:\n",
    "Input: 12 24 35 24\n",
    "Output:\n",
    "12 24 35__"
   ]
  },
  {
   "cell_type": "code",
   "execution_count": 22,
   "metadata": {},
   "outputs": [
    {
     "name": "stdout",
     "output_type": "stream",
     "text": [
      "enter numbers: 12 24 35 24\n",
      "12 24 35\n"
     ]
    }
   ],
   "source": [
    "l= input('enter numbers: ').split()\n",
    "new_l=[]\n",
    "for i in l:\n",
    "    new_l.append((int(i)))\n",
    "\n",
    "final_new_list=list(dict.fromkeys(new_l))\n",
    "          \n",
    "                 \n",
    "print(\" \".join(map(str,final_new_list)))\n",
    "\n",
    "    \n",
    "    "
   ]
  }
 ],
 "metadata": {
  "kernelspec": {
   "display_name": "Python 3",
   "language": "python",
   "name": "python3"
  },
  "language_info": {
   "codemirror_mode": {
    "name": "ipython",
    "version": 3
   },
   "file_extension": ".py",
   "mimetype": "text/x-python",
   "name": "python",
   "nbconvert_exporter": "python",
   "pygments_lexer": "ipython3",
   "version": "3.7.6"
  }
 },
 "nbformat": 4,
 "nbformat_minor": 4
}
