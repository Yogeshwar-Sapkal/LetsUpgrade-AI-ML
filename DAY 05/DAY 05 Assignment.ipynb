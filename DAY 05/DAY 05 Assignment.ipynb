{
 "cells": [
  {
   "cell_type": "markdown",
   "metadata": {},
   "source": [
    "__Question 1 :\n",
    "Write a Python program to find the first 20 non-even prime natural numbers.__"
   ]
  },
  {
   "cell_type": "code",
   "execution_count": 7,
   "metadata": {},
   "outputs": [
    {
     "name": "stdout",
     "output_type": "stream",
     "text": [
      "3\n",
      "5\n",
      "7\n",
      "11\n",
      "13\n",
      "17\n",
      "19\n"
     ]
    }
   ],
   "source": [
    "for a in range(2,21):  \n",
    "    k=0\n",
    "    if not a%2==0:\n",
    "        for i in range(2,a//2+1):  \n",
    "                if(a%i==0):  \n",
    "                    k=k+1  \n",
    "        if(k<=0):  \n",
    "            print(a)  "
   ]
  },
  {
   "cell_type": "markdown",
   "metadata": {},
   "source": [
    "__Question 2 :\n",
    "Write a Python program to implement 15 functions of string.__\n"
   ]
  },
  {
   "cell_type": "code",
   "execution_count": 44,
   "metadata": {},
   "outputs": [
    {
     "name": "stdout",
     "output_type": "stream",
     "text": [
      "24\n",
      "      lets upgrade ai-ml\n",
      "      LETS UPGRADE AI-ML\n",
      "      lETS uPGRADE ai-ml\n",
      "                                            Lets Upgrade AI-ML                                      \n",
      "2\n",
      "True\n",
      "False\n",
      "12\n",
      "False\n",
      "False\n",
      "False\n",
      "      Lets Upgrade AI-ML                                                                            \n",
      "                                Lets Upgrade AI-ML\n",
      "False\n"
     ]
    }
   ],
   "source": [
    "s=\"Lets Upgrade AI-ML\"\n",
    "print(len(s))\n",
    "print(s.lower())\n",
    "print(s.upper())\n",
    "print(s.swapcase())\n",
    "print(s.center(100))\n",
    "print(s.count('e'))\n",
    "print(s.endswith('ML'))\n",
    "print(s.startswith('Lets'))\n",
    "print(s.find('p'))\n",
    "print(s.isalnum())\n",
    "print(s.isalpha())\n",
    "print(s.isdigit())\n",
    "print(s.ljust(100))\n",
    "print(s.rjust(50))\n",
    "print(s.islower())"
   ]
  },
  {
   "cell_type": "markdown",
   "metadata": {},
   "source": [
    "__Question 3:\n",
    "Write a Python program to check if the given string is a Palindrome or Anagram or None of them.\n",
    "Display the message accordingly to the user.__\n"
   ]
  },
  {
   "cell_type": "code",
   "execution_count": 65,
   "metadata": {},
   "outputs": [
    {
     "name": "stdout",
     "output_type": "stream",
     "text": [
      "enter a string 1: listen\n",
      "enter string 2: silent\n",
      "string 1 is not palindrome\n",
      "strings 1&2 are anagram\n"
     ]
    }
   ],
   "source": [
    "s1=input('enter a string 1: ')\n",
    "s2= input('enter string 2: ')\n",
    "rev_s= s1[::-1]\n",
    "\n",
    "if s1==rev_s:\n",
    "    print('string 1 is palindrome')\n",
    "else:\n",
    "    print('string 1 is not palindrome')\n",
    "l1=list(s1)\n",
    "l2=list(s2)\n",
    "l1.sort()\n",
    "l2.sort()\n",
    "if l1==l2:\n",
    "    print('strings 1&2 are anagram')\n",
    "else:\n",
    "    print('strings 1&2 are not anagram')\n",
    "\n",
    "if not s1==rev_s:\n",
    "     if not l1==l2:\n",
    "         print('Strings are NONE')\n",
    "    \n",
    "    \n",
    "\n",
    "    \n"
   ]
  },
  {
   "cell_type": "markdown",
   "metadata": {},
   "source": [
    "__Question 4:\n",
    "Write a Python's user defined function that removes all the additional characters from the string\n",
    "and converts it finally to lower case using built-in lower(). eg: If the string is \"Dr. Darshan Ingle\n",
    "@AI-ML Trainer\", then the output be \"drdarshaningleaimltrainer\".__"
   ]
  },
  {
   "cell_type": "code",
   "execution_count": 34,
   "metadata": {},
   "outputs": [
    {
     "name": "stdout",
     "output_type": "stream",
     "text": [
      "drdarshaningleaimltrainer\n"
     ]
    }
   ],
   "source": [
    "def remove_charac():\n",
    "    s= \"Dr. Darshan Ingle @AI-ML Trainer\"\n",
    "    print(s.replace(' ','').replace('.','').replace('@','').replace('-','').lower())\n",
    "\n",
    "remove_charac()\n"
   ]
  }
 ],
 "metadata": {
  "kernelspec": {
   "display_name": "Python 3",
   "language": "python",
   "name": "python3"
  },
  "language_info": {
   "codemirror_mode": {
    "name": "ipython",
    "version": 3
   },
   "file_extension": ".py",
   "mimetype": "text/x-python",
   "name": "python",
   "nbconvert_exporter": "python",
   "pygments_lexer": "ipython3",
   "version": "3.7.6"
  }
 },
 "nbformat": 4,
 "nbformat_minor": 4
}
